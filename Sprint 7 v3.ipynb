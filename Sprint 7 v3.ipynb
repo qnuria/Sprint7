{
 "cells": [
  {
   "cell_type": "markdown",
   "metadata": {},
   "source": [
    "Nivel 1\n",
    "\n",
    "\n",
    "\n",
    "- Ejercicio 1\n",
    "\n",
    "Calculadora del índice de masa corporal\n",
    "\n",
    "    Escriba una función que calcule el IMC por el usuario, es decir, quien la ejecute tendrá que introducir estos datos. Puede obtener más información sobre su cálculo en:\n",
    "\n",
    "    La función debe clasificar el resultado en sus respectivas categorías\n",
    "\n"
   ]
  },
  {
   "cell_type": "markdown",
   "metadata": {},
   "source": [
    "Para calcular el IMC es necesario dividir el peso en kg de un paciente entre el cuadrado de su altura en metros. "
   ]
  },
  {
   "cell_type": "code",
   "execution_count": 26,
   "metadata": {},
   "outputs": [
    {
     "name": "stdout",
     "output_type": "stream",
     "text": [
      "Tu peso es 68.0\n",
      "Tu altura es 1.69\n",
      "Segun tu peso y altura, tu IMC es:  23.81\n",
      "Tienes Peso Normal\n"
     ]
    }
   ],
   "source": [
    "def IMC(x,y):\n",
    "    return round(float((x/y**2)),2)\n",
    "\n",
    "#creare  dos variables: a una le asigno el peso en kg y a la otra la altura. Pero lo hare dentro de un print.\n",
    "\n",
    "peso= float(input(\"Entra tu peso en KG:\")) #pido al usuario entre su peso y le pongo el formato de float decimal. peso es una variable que creo para ponerle la informacion que hay despues\n",
    "print (\"Tu peso es\", peso)\n",
    "altura = float(input(\"Cual es tu altura en metros?\")) #idem paso anterior.\n",
    "print(\"Tu altura es\", altura)\n",
    "\n",
    "\n",
    "print ('Segun tu peso y altura, tu IMC es: ', IMC(peso,altura))\n",
    "\n",
    "if IMC(peso,altura) <= 18.5:  \n",
    "    print('Tienes Bajo Peso')\n",
    "elif (IMC(peso,altura) <= 24.9):\n",
    "    print('Tienes Peso Normal')\n",
    "elif (IMC(peso,altura) <= 29.9):\n",
    "    print('Tienes Sobrepeso')\n",
    "else:\n",
    "    print('Tienes Obesidad')"
   ]
  },
  {
   "cell_type": "markdown",
   "metadata": {},
   "source": [
    "Ejercicio 2\n",
    "\n",
    "Conversor de temperaturas.\n",
    "\n",
    "Hay varias unidades de temperatura utilizadas en diferentes contextos y regiones. Los más comunes son Celsius (C), Fahrenheit (F) y Kelvin (K). También hay otras unidades como Rankine y Reaumur. Seleccione al menos 2 convertidores, de modo que al entrar  una temperatura, al menos devuelva dos conversiones."
   ]
  },
  {
   "cell_type": "markdown",
   "metadata": {},
   "source": [
    "Celsius\n",
    "K = c + 273.15\n",
    "F = (c*9/5)+32"
   ]
  },
  {
   "cell_type": "code",
   "execution_count": 3,
   "metadata": {},
   "outputs": [
    {
     "name": "stdout",
     "output_type": "stream",
     "text": [
      "Entra los grados en ºC:\n",
      "Grados Celtius 25.3\n",
      "Grados Kelvin 298.45\n",
      "Grados Fahrenheit 77.54\n"
     ]
    }
   ],
   "source": [
    "print ('Entra los grados en ºC:') #escojo solo con conversor de Celsius a Kelvin y Fahrenheit\n",
    "Celsius = float(input())  #lo convierto a decimal con float\n",
    "\n",
    "print ('Grados Celtius', Celsius)\n",
    "print ('Grados Kelvin', Celsius+273.15)\n",
    "print ('Grados Fahrenheit' , (Celsius *9/5)+32)"
   ]
  },
  {
   "cell_type": "markdown",
   "metadata": {},
   "source": [
    "Aqui hago el mismo ejercicio pero con posibilidad de que el usuario pueda escoger la unidad."
   ]
  },
  {
   "cell_type": "code",
   "execution_count": 19,
   "metadata": {},
   "outputs": [
    {
     "name": "stdout",
     "output_type": "stream",
     "text": [
      "Grados Fahrenheit 25.0\n",
      "Grados Celsius -3.888888888888889\n",
      "Grados Kelvin 269.26111111111106\n"
     ]
    }
   ],
   "source": [
    "unidad= int(input(\"Escoge la unidad de temperatura: 1 para Celsius, 2 para Kelvin, 3 para Fahrenheit:\"))\n",
    "\n",
    "if unidad == 1:\n",
    "       Celsius=float(input(\"Entra los grados en Celsius:\"))\n",
    "       print (\"Grados Celsius\", Celsius)\n",
    "       print ('Grados Kelvin', Celsius+273.15)\n",
    "       print ('Grados Fahrenheit' , (Celsius *9/5)+32)\n",
    "elif unidad ==2:\n",
    "       Kelvin=float(input(\"Entra los grados en Kelvin:\"))\n",
    "       print (\"Grados Kelvin:\", Kelvin)\n",
    "       print (\"Grados Celsius\", Kelvin -273.15)\n",
    "       print (\"Grados Fahrenheit\", ((Kelvin-273.15)*1.8)+32)\n",
    "elif unidad == 3:\n",
    "       Fahrenheit=float(input(\"Entra los grados en Fahrenheit\"))\n",
    "       print (\"Grados Fahrenheit\", Fahrenheit)\n",
    "       print (\"Grados Celsius\", (Fahrenheit-32)*5/9)\n",
    "       print (\"Grados Kelvin\", ((Fahrenheit-32)/1.8)+ 273.15)\n",
    "else:\n",
    "       print (\"La unidad de temperatura ha de ser 1, 2 o 3\")\n",
    "\n"
   ]
  },
  {
   "cell_type": "markdown",
   "metadata": {},
   "source": [
    "Ejercicio 3\n",
    "\n",
    "Conteo de palabras de un texto.\n",
    "\n",
    "Escribe una función que, dado un texto, muestra las veces que aparece cada palabra."
   ]
  },
  {
   "cell_type": "code",
   "execution_count": 8,
   "metadata": {},
   "outputs": [
    {
     "name": "stdout",
     "output_type": "stream",
     "text": [
      "Entra un texto\n",
      "heof fo fj por ñl l\n",
      "{'heof': 1, 'fo': 1, 'fj': 1, 'por': 1, 'ñl': 1, 'l': 1}\n",
      "La palabra heof tiene una frecuencia de 1\n",
      "La palabra fo tiene una frecuencia de 1\n",
      "La palabra fj tiene una frecuencia de 1\n",
      "La palabra por tiene una frecuencia de 1\n",
      "La palabra ñl tiene una frecuencia de 1\n",
      "La palabra l tiene una frecuencia de 1\n"
     ]
    }
   ],
   "source": [
    "def veces_palabra():\n",
    "    print ('Entra un texto')\n",
    "    texto = input()\n",
    "    texto= texto.lower() #para poner todas las palabras a minusculas y asi sean las mismas\n",
    "    print(texto) # para que escriba la frase que se ha introducido\n",
    "    palabras = texto.split() #funcion que ya existe para dividir un texto en palabras  (aunque tambien se puede hacer con la libreria re: modulo expresiones regulares)\n",
    "    diccionario_palabras_frecuencia={} #creo un diccionario vacio donde almacenaré cada palabra como CLAVE y su frecuencia como VALOR\n",
    "    for palabra in palabras:  #cada palabra se usa como CLAVE, y con la iteracion del bucle accedo a la frecuencia de la clave [palabra]\n",
    "        if palabra in diccionario_palabras_frecuencia: \n",
    "            diccionario_palabras_frecuencia[palabra] += 1   #[] sintaxis estandar para acceder a los elementos de un diccionario\n",
    "        else:\n",
    "            diccionario_palabras_frecuencia[palabra] = 1\n",
    "    print(diccionario_palabras_frecuencia) #imprimo el diccionario para ver los resultados por pares\n",
    "    #ahora voy a hacer que se imprima cada palabra del diccionario con su frecuencia\n",
    "    for palabra in diccionario_palabras_frecuencia:\n",
    "        frecuencia = diccionario_palabras_frecuencia[palabra]\n",
    "        print(f\"La palabra {palabra} tiene una frecuencia de {frecuencia}\") #f-string se indican las variables entre {}\n",
    "        #print(f\"La palabra {palabra} tiene una frecuencia de {diccionario_palabras_frecuencia[palabra]}\") #otra manera de escribirlo\n",
    "\n",
    "veces_palabra()\n",
    "\n",
    "\n"
   ]
  },
  {
   "cell_type": "markdown",
   "metadata": {},
   "source": [
    "Ejercicio 4\n",
    "\n",
    "Diccionario inverso.\n",
    "\n",
    "Resulta que el cliente tiene una encuesta muy antigua que se almacena en un diccionario y los resultados necesitan ser invertidos, es decir, se intercambian las claves y los valores. Los valores y las claves del diccionario original son únicos; si no es así, la función debe ser impresa en un mensaje de advertencia.\n"
   ]
  },
  {
   "cell_type": "code",
   "execution_count": 12,
   "metadata": {},
   "outputs": [
    {
     "name": "stdout",
     "output_type": "stream",
     "text": [
      "{1: 'a', 2: 'b', 3: 'c'}\n"
     ]
    }
   ],
   "source": [
    "def funcion_diccionario_invertido(diccionario):\n",
    "    \n",
    "    diccionario_invertido={}\n",
    "    for keys,value in diccionario.items():\n",
    "        if value in diccionario_invertido:\n",
    "            raise ValueError(f\"Error: Multiples claves para el valor {value}\")  # si ya existe el valor, dar error\n",
    "        \n",
    "        else:\n",
    "            diccionario_invertido[value] = keys #si no existe el valor, poner la clave como valor.\n",
    "\n",
    "    print(diccionario_invertido)\n",
    "\n",
    "diccionario = {'a':1,'b':2, 'c':3}\n",
    "funcion_diccionario_invertido(diccionario)"
   ]
  },
  {
   "cell_type": "markdown",
   "metadata": {},
   "source": [
    "Este es para el caso que este repetido"
   ]
  },
  {
   "cell_type": "code",
   "execution_count": 17,
   "metadata": {},
   "outputs": [
    {
     "ename": "ValueError",
     "evalue": "Error: Multiples claves para el valor banana",
     "output_type": "error",
     "traceback": [
      "\u001b[1;31m---------------------------------------------------------------------------\u001b[0m",
      "\u001b[1;31mValueError\u001b[0m                                Traceback (most recent call last)",
      "Cell \u001b[1;32mIn[17], line 16\u001b[0m\n\u001b[0;32m     12\u001b[0m     \u001b[38;5;28mprint\u001b[39m(diccionario_invertido)\n\u001b[0;32m     15\u001b[0m diccionario \u001b[38;5;241m=\u001b[39m {\u001b[38;5;124m\"\u001b[39m\u001b[38;5;124mx\u001b[39m\u001b[38;5;124m\"\u001b[39m: \u001b[38;5;124m\"\u001b[39m\u001b[38;5;124mapple\u001b[39m\u001b[38;5;124m\"\u001b[39m, \u001b[38;5;124m\"\u001b[39m\u001b[38;5;124my\u001b[39m\u001b[38;5;124m\"\u001b[39m: \u001b[38;5;124m\"\u001b[39m\u001b[38;5;124mbanana\u001b[39m\u001b[38;5;124m\"\u001b[39m, \u001b[38;5;124m\"\u001b[39m\u001b[38;5;124mz\u001b[39m\u001b[38;5;124m\"\u001b[39m: \u001b[38;5;124m\"\u001b[39m\u001b[38;5;124mbanana\u001b[39m\u001b[38;5;124m\"\u001b[39m}\n\u001b[1;32m---> 16\u001b[0m funcion_diccionario_invertido(diccionario)\n",
      "Cell \u001b[1;32mIn[17], line 7\u001b[0m, in \u001b[0;36mfuncion_diccionario_invertido\u001b[1;34m(diccionario)\u001b[0m\n\u001b[0;32m      5\u001b[0m \u001b[38;5;28;01mfor\u001b[39;00m keys,value \u001b[38;5;129;01min\u001b[39;00m diccionario\u001b[38;5;241m.\u001b[39mitems():\n\u001b[0;32m      6\u001b[0m     \u001b[38;5;28;01mif\u001b[39;00m value \u001b[38;5;129;01min\u001b[39;00m diccionario_invertido:\n\u001b[1;32m----> 7\u001b[0m         \u001b[38;5;28;01mraise\u001b[39;00m \u001b[38;5;167;01mValueError\u001b[39;00m(\u001b[38;5;124mf\u001b[39m\u001b[38;5;124m\"\u001b[39m\u001b[38;5;124mError: Multiples claves para el valor \u001b[39m\u001b[38;5;132;01m{\u001b[39;00mvalue\u001b[38;5;132;01m}\u001b[39;00m\u001b[38;5;124m\"\u001b[39m)\n\u001b[0;32m      9\u001b[0m     \u001b[38;5;28;01melse\u001b[39;00m:\n\u001b[0;32m     10\u001b[0m         diccionario_invertido[value] \u001b[38;5;241m=\u001b[39m keys\n",
      "\u001b[1;31mValueError\u001b[0m: Error: Multiples claves para el valor banana"
     ]
    }
   ],
   "source": [
    "def funcion_diccionario_invertido(diccionario):\n",
    "\n",
    "    \n",
    "    diccionario_invertido={}\n",
    "    for keys,value in diccionario.items():\n",
    "        if value in diccionario_invertido:\n",
    "            raise ValueError(f\"Error: Multiples claves para el valor {value}\")\n",
    "        \n",
    "        else:\n",
    "            diccionario_invertido[value] = keys\n",
    "\n",
    "    print(diccionario_invertido)\n",
    "\n",
    "\n",
    "diccionario = {\"x\": \"apple\", \"y\": \"banana\", \"z\": \"banana\"}\n",
    "funcion_diccionario_invertido(diccionario)"
   ]
  },
  {
   "cell_type": "markdown",
   "metadata": {},
   "source": [
    "Nivel 2\n",
    "\n",
    "\n",
    "Ejercicio 1\n",
    "\n",
    "Diccionario inverso con duplicados\n",
    "\n",
    "Continuando con el 4o ejercicio del nivel: el cliente se ha olvidado de comentar un detalle y resulta que los valores en el diccionario original se pueden duplicar y, más aún, las claves se pueden duplicar. En este caso, en el ejercicio anterior, se imprimirá un mensaje de advertencia, ahora los valores del diccionario resultante tendrán que ser almacenados como lista. Tenga en cuenta que si se trata de un valor único, no debe ser una lista."
   ]
  },
  {
   "cell_type": "code",
   "execution_count": 21,
   "metadata": {},
   "outputs": [
    {
     "data": {
      "text/plain": [
       "{'apple': 'x', 'banana': ['y', 'z']}"
      ]
     },
     "execution_count": 21,
     "metadata": {},
     "output_type": "execute_result"
    }
   ],
   "source": [
    "def funcion_diccionario_invertido_duplicados(diccionario):\n",
    "\n",
    "    diccionario_invertido={}\n",
    "    for keys,value in diccionario.items():  #se define nombre para cada item: par llave:valor\n",
    "        if value in diccionario_invertido:  #se itera sobre valor\n",
    "            diccionario_invertido[value]= [diccionario_invertido[value]] #si ya existe el valor, convertirlo en una lista []\n",
    "            diccionario_invertido[value].append(keys) #dentro es esa lista ,añadirle la clave en el valor\n",
    "        else:\n",
    "            diccionario_invertido[value] = keys #si el valor no esta, poner la clave como valor sin convertirlo en lista\n",
    "    return diccionario_invertido\n",
    "\n",
    "encuestaantigua= {\"x\": \"apple\", \"y\": \"banana\", \"z\": \"banana\"}\n",
    "funcion_diccionario_invertido_duplicados(encuestaantigua)"
   ]
  },
  {
   "cell_type": "markdown",
   "metadata": {},
   "source": [
    "Ejercicio 2\n",
    "\n",
    "Conversión del tipo de datos\n",
    "\n",
    "El cliente recibe una lista de datos y necesita generar dos listas, la primera donde estarán todos los elementos que se pudieron convertir en flotantes y la otra donde estaran los elementos que no se han podido convertir. Ejemplo de la lista del cliente:  [ '1.3', 'one' , '1e10' , 'seven', '3-1/2', ('2',1,1.4,'not-a-number'), [1,2,'3','3.4']]"
   ]
  },
  {
   "cell_type": "code",
   "execution_count": 30,
   "metadata": {},
   "outputs": [
    {
     "name": "stdout",
     "output_type": "stream",
     "text": [
      "['1.3', 'one', '1e10', 'seven', '3-1/2', ('2', 1, 1.4, 'not-a-number'), [1, 2, '3', '3.4']]\n",
      "Elementos convertibles:  [1.3, 10000000000.0, 2.0, 1.0, 1.4, 1.0, 2.0, 3.0, 3.4]\n",
      "Elementos no convertibles:  ['one', 'seven', '3-1/2', 'not-a-number']\n"
     ]
    }
   ],
   "source": [
    "def funcion_convertible(lista):\n",
    "\n",
    "\n",
    "    lista_convertibles=[]\n",
    "    lista_no_convertibles=[]\n",
    "    print(lista_cliente)\n",
    "    for elemento in lista_cliente:\n",
    "        if isinstance(elemento,(tuple,list)):  #opcion para ver el contenido dentro de lista o tupla\n",
    "            for subelemento in elemento: #se itera dentro de cada lista o tupla\n",
    "                try:\n",
    "                    lista_convertibles.append(float(subelemento))\n",
    "                except(ValueError, TypeError):\n",
    "                    lista_no_convertibles.append(subelemento)\n",
    "        else: #si no es ni tupla ni lista se itera con los otros valores\n",
    "            try:\n",
    "                lista_convertibles.append(float(elemento))\n",
    "            except(ValueError, TypeError):\n",
    "                lista_no_convertibles.append(elemento)\n",
    "    print(\"Elementos convertibles: \",lista_convertibles)\n",
    "    print(\"Elementos no convertibles: \",lista_no_convertibles)\n",
    "\n",
    "lista_cliente= [ '1.3', 'one' , '1e10' , 'seven', '3-1/2', ('2',1,1.4,'not-a-number'), [1,2,'3','3.4']]\n",
    "funcion_convertible(lista_cliente)"
   ]
  }
 ],
 "metadata": {
  "kernelspec": {
   "display_name": "base",
   "language": "python",
   "name": "python3"
  },
  "language_info": {
   "codemirror_mode": {
    "name": "ipython",
    "version": 3
   },
   "file_extension": ".py",
   "mimetype": "text/x-python",
   "name": "python",
   "nbconvert_exporter": "python",
   "pygments_lexer": "ipython3",
   "version": "3.11.5"
  }
 },
 "nbformat": 4,
 "nbformat_minor": 2
}
