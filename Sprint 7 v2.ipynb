{
 "cells": [
  {
   "cell_type": "markdown",
   "metadata": {},
   "source": [
    "Nivel 1\n",
    "\n",
    "\n",
    "\n",
    "- Ejercicio 1\n",
    "\n",
    "Calculadora del índice de masa corporal\n",
    "\n",
    "    Escriba una función que calcule el IMC por el usuario, es decir, quien la ejecute tendrá que introducir estos datos. Puede obtener más información sobre su cálculo en:\n",
    "\n",
    "    La función debe clasificar el resultado en sus respectivas categorías\n",
    "\n"
   ]
  },
  {
   "cell_type": "markdown",
   "metadata": {},
   "source": [
    "Para calcular el IMC es necesario dividir el peso en kg de un paciente entre el cuadrado de su altura en metros. "
   ]
  },
  {
   "cell_type": "code",
   "execution_count": 44,
   "metadata": {},
   "outputs": [
    {
     "name": "stdout",
     "output_type": "stream",
     "text": [
      "Tu peso es 25.0\n",
      "Cual es tu altura en metros?\n",
      "Tu altura es 25.6\n",
      "Segun tu peso y altura, tu IMC es:  0\n",
      "Tienes Bajo Peso\n"
     ]
    }
   ],
   "source": [
    "#creare  dos variables: a una le asigno el peso en kg y a la otra la altura. Pero lo hare dentro de un print.\n",
    "\n",
    "peso= float(input(\"Entra tu peso en KG:\")) #pido al usuario entre su peso y le pongo el formato de float decimal. peso es una variable que creo para ponerle la informacion que hay despues\n",
    "print (\"Tu peso es\", peso)\n",
    "altura = float(input(\"Cual es tu altura en metros?\")) #idem paso anterior.\n",
    "print(\"Tu altura es\", altura)\n",
    "IMC = round(float((peso/altura**2)))\n",
    "\n",
    "print ('Segun tu peso y altura, tu IMC es: ', IMC)\n",
    "\n",
    "if IMC <= 18.5:  \n",
    "    print('Tienes Bajo Peso')\n",
    "elif (IMC <= 24.9):\n",
    "    print('Tienes Peso Normal')\n",
    "elif (IMC <= 29.9):\n",
    "    print('Tienes Sobrepeso')\n",
    "else:\n",
    "    print('Tienes Obesidad')"
   ]
  },
  {
   "cell_type": "markdown",
   "metadata": {},
   "source": [
    "Ejercicio 2\n",
    "\n",
    "Conversor de temperaturas.\n",
    "\n",
    "Hay varias unidades de temperatura utilizadas en diferentes contextos y regiones. Los más comunes son Celsius (C), Fahrenheit (F) y Kelvin (K). También hay otras unidades como Rankine y Reaumur. Seleccione al menos 2 convertidores, de modo que al entrar  una temperatura, al menos devuelva dos conversiones."
   ]
  },
  {
   "cell_type": "markdown",
   "metadata": {},
   "source": [
    "Celsius\n",
    "K = c + 273.15\n",
    "F = (c*9/5)+32"
   ]
  },
  {
   "cell_type": "code",
   "execution_count": 3,
   "metadata": {},
   "outputs": [
    {
     "name": "stdout",
     "output_type": "stream",
     "text": [
      "Entra los grados en ºC:\n",
      "Grados Celtius 25.3\n",
      "Grados Kelvin 298.45\n",
      "Grados Fahrenheit 77.54\n"
     ]
    }
   ],
   "source": [
    "print ('Entra los grados en ºC:') #escojo solo con conversor de Celsius a Kelvin y Fahrenheit\n",
    "Celsius = float(input())  #lo convierto a decimal con float\n",
    "\n",
    "print ('Grados Celtius', Celsius)\n",
    "print ('Grados Kelvin', Celsius+273.15)\n",
    "print ('Grados Fahrenheit' , (Celsius *9/5)+32)"
   ]
  },
  {
   "cell_type": "code",
   "execution_count": 19,
   "metadata": {},
   "outputs": [
    {
     "name": "stdout",
     "output_type": "stream",
     "text": [
      "Grados Fahrenheit 25.0\n",
      "Grados Celsius -3.888888888888889\n",
      "Grados Kelvin 269.26111111111106\n"
     ]
    }
   ],
   "source": [
    "unidad= int(input(\"Escoge la unidad de temperatura: 1 para Celsius, 2 para Kelvin, 3 para Fahrenheit:\"))\n",
    "\n",
    "if unidad == 1:\n",
    "       Celsius=float(input(\"Entra los grados en Celsius:\"))\n",
    "       print (\"Grados Celsius\", Celsius)\n",
    "       print ('Grados Kelvin', Celsius+273.15)\n",
    "       print ('Grados Fahrenheit' , (Celsius *9/5)+32)\n",
    "elif unidad ==2:\n",
    "       Kelvin=float(input(\"Entra los grados en Kelvin:\"))\n",
    "       print (\"Grados Kelvin:\", Kelvin)\n",
    "       print (\"Grados Celsius\", Kelvin -273.15)\n",
    "       print (\"Grados Fahrenheit\", ((Kelvin-273.15)*1.8)+32)\n",
    "elif unidad == 3:\n",
    "       Fahrenheit=float(input(\"Entra los grados en Fahrenheit\"))\n",
    "       print (\"Grados Fahrenheit\", Fahrenheit)\n",
    "       print (\"Grados Celsius\", (Fahrenheit-32)*5/9)\n",
    "       print (\"Grados Kelvin\", ((Fahrenheit-32)/1.8)+ 273.15)\n",
    "else:\n",
    "       print (\"La unidad de temperatura ha de ser 1, 2 o 3\")\n",
    "\n"
   ]
  },
  {
   "cell_type": "markdown",
   "metadata": {},
   "source": [
    "Ejercicio 3\n",
    "\n",
    "Conteo de palabras de un texto.\n",
    "\n",
    "Escribe una función que, dado un texto, muestra las veces que aparece cada palabra."
   ]
  },
  {
   "cell_type": "code",
   "execution_count": 4,
   "metadata": {},
   "outputs": [
    {
     "name": "stdout",
     "output_type": "stream",
     "text": [
      "Entra un texto\n",
      "mi maddre y mi cvapo \n",
      "{'mi': 2, 'maddre': 1, 'y': 1, 'cvapo': 1}\n",
      "La palabra mi tiene una frecuencia de 2\n",
      "La palabra maddre tiene una frecuencia de 1\n",
      "La palabra y tiene una frecuencia de 1\n",
      "La palabra cvapo tiene una frecuencia de 1\n"
     ]
    }
   ],
   "source": [
    "print ('Entra un texto')\n",
    "texto = input()\n",
    "texto= texto.lower() #para poner todas las palabras a minusculas y asi sean las mismas\n",
    "print(texto) # para que escriba la frase que se ha introducido\n",
    "palabras = texto.split() #funcion que ya existe para dividir un texto en palabras  (aunque tambien se puede hacer con la libreria re: modulo expresiones regulares)\n",
    "diccionario_palabras_frecuencia={} #creo un diccionario vacio donde almacenaré cada palabra como CLAVE y su frecuencia como VALOR\n",
    "for palabra in palabras:\n",
    "    if palabra in diccionario_palabras_frecuencia: \n",
    "        diccionario_palabras_frecuencia[palabra] += 1   \n",
    "    else:\n",
    "        diccionario_palabras_frecuencia[palabra] = 1\n",
    "print(diccionario_palabras_frecuencia) #imprimo el diccionario para ver los resultados por pares\n",
    "#ahora voy a hacer que se imprima cada palabra del diccionario con su frecuencia\n",
    "for palabra in diccionario_palabras_frecuencia:\n",
    "    frecuencia = diccionario_palabras_frecuencia[palabra]\n",
    "    print(f\"La palabra {palabra} tiene una frecuencia de {frecuencia}\")\n",
    "\n",
    "\n",
    "\n"
   ]
  },
  {
   "cell_type": "markdown",
   "metadata": {},
   "source": [
    "Ejercicio 4\n",
    "\n",
    "Diccionario inverso.\n",
    "\n",
    "Resulta que el cliente tiene una encuesta muy antigua que se almacena en un diccionario y los resultados necesitan ser invertidos, es decir, se intercambian las claves y los valores. Los valores y las claves del diccionario original son únicos; si no es así, la función debe ser impresa en un mensaje de advertencia.\n"
   ]
  },
  {
   "cell_type": "code",
   "execution_count": 51,
   "metadata": {},
   "outputs": [
    {
     "name": "stdout",
     "output_type": "stream",
     "text": [
      "{1: 'a', 2: 'b', 3: 'c'}\n"
     ]
    }
   ],
   "source": [
    "diccionario = {'a':1,'b':2, 'c':3}\n",
    "diccionario_invertido={}\n",
    "for keys,value in diccionario.items():\n",
    "    if value in diccionario_invertido:\n",
    "        raise ValueError(f\"Error: Multiples claves para el valor {value}\")  # si ya existe el valor, dar error\n",
    "        \n",
    "    else:\n",
    "        diccionario_invertido[value] = keys #si no existe el valor, poner la clave como valor.\n",
    "\n",
    "print(diccionario_invertido)"
   ]
  },
  {
   "cell_type": "code",
   "execution_count": 49,
   "metadata": {},
   "outputs": [
    {
     "ename": "ValueError",
     "evalue": "Error: Multiples claves para el valor banana",
     "output_type": "error",
     "traceback": [
      "\u001b[1;31m---------------------------------------------------------------------------\u001b[0m",
      "\u001b[1;31mValueError\u001b[0m                                Traceback (most recent call last)",
      "Cell \u001b[1;32mIn[49], line 5\u001b[0m\n\u001b[0;32m      3\u001b[0m \u001b[38;5;28;01mfor\u001b[39;00m keys,value \u001b[38;5;129;01min\u001b[39;00m diccionario\u001b[38;5;241m.\u001b[39mitems():\n\u001b[0;32m      4\u001b[0m     \u001b[38;5;28;01mif\u001b[39;00m value \u001b[38;5;129;01min\u001b[39;00m diccionario_invertido:\n\u001b[1;32m----> 5\u001b[0m         \u001b[38;5;28;01mraise\u001b[39;00m \u001b[38;5;167;01mValueError\u001b[39;00m(\u001b[38;5;124mf\u001b[39m\u001b[38;5;124m\"\u001b[39m\u001b[38;5;124mError: Multiples claves para el valor \u001b[39m\u001b[38;5;132;01m{\u001b[39;00mvalue\u001b[38;5;132;01m}\u001b[39;00m\u001b[38;5;124m\"\u001b[39m)\n\u001b[0;32m      7\u001b[0m     \u001b[38;5;28;01melse\u001b[39;00m:\n\u001b[0;32m      8\u001b[0m         diccionario_invertido[value] \u001b[38;5;241m=\u001b[39m keys\n",
      "\u001b[1;31mValueError\u001b[0m: Error: Multiples claves para el valor banana"
     ]
    }
   ],
   "source": [
    "diccionario = {\"x\": \"apple\", \"y\": \"banana\", \"z\": \"banana\"}\n",
    "diccionario_invertido={}\n",
    "for keys,value in diccionario.items():\n",
    "    if value in diccionario_invertido:\n",
    "        raise ValueError(f\"Error: Multiples claves para el valor {value}\")\n",
    "        \n",
    "    else:\n",
    "        diccionario_invertido[value] = keys\n",
    "\n",
    "print(diccionario_invertido)\n",
    "\n",
    "\n"
   ]
  },
  {
   "cell_type": "markdown",
   "metadata": {},
   "source": [
    "Nivel 2\n",
    "\n",
    "\n",
    "Ejercicio 1\n",
    "\n",
    "Diccionario inverso con duplicados\n",
    "\n",
    "Continuando con el 4o ejercicio del nivel: el cliente se ha olvidado de comentar un detalle y resulta que los valores en el diccionario original se pueden duplicar y, más aún, las claves se pueden duplicar. En este caso, en el ejercicio anterior, se imprimirá un mensaje de advertencia, ahora los valores del diccionario resultante tendrán que ser almacenados como lista. Tenga en cuenta que si se trata de un valor único, no debe ser una lista."
   ]
  },
  {
   "cell_type": "code",
   "execution_count": 55,
   "metadata": {},
   "outputs": [
    {
     "name": "stdout",
     "output_type": "stream",
     "text": [
      "{'apple': 'x', 'banana': ['y', 'z']}\n"
     ]
    }
   ],
   "source": [
    "diccionario = {\"x\": \"apple\", \"y\": \"banana\", \"z\": \"banana\"}\n",
    "diccionario_invertido={}\n",
    "for keys,value in diccionario.items():\n",
    "    if value in diccionario_invertido:\n",
    "        diccionario_invertido[value]= [diccionario_invertido[value]] #si ya existe el valor, convertirlo en una lista\n",
    "        diccionario_invertido[value].append(keys) #y añadirle la clave en el valor\n",
    "    else:\n",
    "        diccionario_invertido[value] = keys #si el valor no esta, poner la clave como valor sin convertirlo en lista\n",
    "\n",
    "print(diccionario_invertido)"
   ]
  },
  {
   "cell_type": "markdown",
   "metadata": {},
   "source": [
    "Ejercicio 2\n",
    "\n",
    "Conversión del tipo de datos\n",
    "\n",
    "El cliente recibe una lista de datos y necesita generar dos listas, la primera donde estarán todos los elementos que se pudieron convertir en flotantes y la otra donde estaran los elementos que no se han podido convertir. Ejemplo de la lista del cliente:  [ '1.3', 'one' , '1e10' , 'seven', '3-1/2', ('2',1,1.4,'not-a-number'), [1,2,'3','3.4']]"
   ]
  },
  {
   "cell_type": "code",
   "execution_count": 28,
   "metadata": {},
   "outputs": [
    {
     "name": "stdout",
     "output_type": "stream",
     "text": [
      "['1.3', 'one', '1e10', 'seven', '3-1/2', ('2', 1, 1.4, 'not-a-number'), [1, 2, '3', '3.4']]\n",
      "Elementos convertibles [1.3, 10000000000.0, 2.0, 1.0, 1.4, 1.0, 2.0, 3.0, 3.4]\n",
      "Elementos no convertibles ['one', 'seven', '3-1/2', 'not-a-number']\n"
     ]
    }
   ],
   "source": [
    "lista_cliente= [ '1.3', 'one' , '1e10' , 'seven', '3-1/2', ('2',1,1.4,'not-a-number'), [1,2,'3','3.4']]\n",
    "lista_convertibles=[]\n",
    "lista_no_convertibles=[]\n",
    "print(lista_cliente)\n",
    "for x in lista_cliente:\n",
    "    if isinstance(x,(tuple,list)):  #opcion para ver el contenido dentro de lista o tupla\n",
    "        for y in x: #se itera dentro de cada lista o tupla\n",
    "            try:\n",
    "                lista_convertibles.append(float(y))\n",
    "            except(ValueError, TypeError):\n",
    "                lista_no_convertibles.append(y)\n",
    "    else: #si no es ni tupla ni lista se itera con los otros valores\n",
    "        try:\n",
    "            lista_convertibles.append(float(x))\n",
    "        except(ValueError, TypeError):\n",
    "            lista_no_convertibles.append(x)\n",
    "print(\"Elementos convertibles\",lista_convertibles)\n",
    "print(\"Elementos no convertibles\",lista_no_convertibles)"
   ]
  }
 ],
 "metadata": {
  "kernelspec": {
   "display_name": "base",
   "language": "python",
   "name": "python3"
  },
  "language_info": {
   "codemirror_mode": {
    "name": "ipython",
    "version": 3
   },
   "file_extension": ".py",
   "mimetype": "text/x-python",
   "name": "python",
   "nbconvert_exporter": "python",
   "pygments_lexer": "ipython3",
   "version": "3.11.5"
  }
 },
 "nbformat": 4,
 "nbformat_minor": 2
}
